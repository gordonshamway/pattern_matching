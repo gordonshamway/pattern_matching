{
 "cells": [
  {
   "attachments": {},
   "cell_type": "markdown",
   "metadata": {},
   "source": [
    "# General Idea \n",
    "Creating a machine, that will analyse the occurences of different source patterns in a lower (finer) time frame to a higher time frame i.e. daily -> weekly. \n",
    "- Is it possible to generate some insights, which patterns lead more probably to certain result patterns (target prices)?\n",
    "![rule analyzer](rule_analyzer.png)"
   ]
  },
  {
   "cell_type": "code",
   "execution_count": 1,
   "metadata": {},
   "outputs": [],
   "source": [
    "#%pip install numpy --upgrade\n",
    "#%pip install alpha_vantage\n",
    "#%pip install pandas_ta"
   ]
  },
  {
   "cell_type": "code",
   "execution_count": 2,
   "metadata": {},
   "outputs": [],
   "source": [
    "import pandas as pd\n",
    "import pandas_ta as ta\n",
    "from alpha_vantage.timeseries import TimeSeries"
   ]
  },
  {
   "cell_type": "markdown",
   "metadata": {},
   "source": [
    "## 1. Step: Get the data"
   ]
  },
  {
   "cell_type": "code",
   "execution_count": null,
   "metadata": {},
   "outputs": [],
   "source": [
    "stock_ticker = 'MSFT'"
   ]
  },
  {
   "cell_type": "code",
   "execution_count": 4,
   "metadata": {},
   "outputs": [],
   "source": [
    "ts = TimeSeries(key='X6SGFO2II4530GDY', output_format='pandas')\n",
    "# Get json object with the intraday data and another with  the call's metadata\n",
    "daily_data, daily_meta_data = ts.get_daily_adjusted(stock_ticker, )\n",
    "weekly_data, weekly_meta_data = ts.get_weekly_adjusted(stock_ticker)"
   ]
  },
  {
   "cell_type": "code",
   "execution_count": 5,
   "metadata": {},
   "outputs": [],
   "source": [
    "daily_data.columns = ['open', 'high', 'low', 'close', 'adjusted_close', 'volume', 'dividend', 'split_coeff']\n",
    "weekly_data.columns = ['open', 'high', 'low', 'close', 'adjusted_close', 'volume', 'dividend']\n",
    "daily_data = daily_data[['open', 'high', 'low', 'close', 'adjusted_close']]\n",
    "weekly_data = weekly_data[['open', 'high', 'low', 'close', 'adjusted_close']]\n",
    "daily_data = daily_data.sort_index(ascending=True)\n",
    "weekly_data = weekly_data.sort_index(ascending=True)"
   ]
  },
  {
   "cell_type": "markdown",
   "metadata": {},
   "source": [
    "## 2. Step: Get technical data"
   ]
  },
  {
   "cell_type": "code",
   "execution_count": 6,
   "metadata": {},
   "outputs": [],
   "source": [
    "CustomStrategy = ta.Strategy(\n",
    "    name=\"Hlouschek\",\n",
    "    description=\"MA 9, MA 20, BB2, BB3, %B2, ADX, DI+, DI-, Parabolic SAR\",\n",
    "    ta=[\n",
    "        {\"kind\": \"sma\", \"length\": 9},\n",
    "        {\"kind\": \"sma\", \"length\": 20},\n",
    "        {\"kind\": \"bbands\", \"length\": 20, \"std\": 2}, #includes percent_b\n",
    "        {\"kind\": \"bbands\", \"length\": 20, \"std\": 3}, #includes percent_b\n",
    "        {\"kind\": \"adx\"}, #default parameters are ok\n",
    "        {\"kind\": \"psar\"}, #default parameters are ok\n",
    "        \n",
    "        # eventuell später relevant für options for winners indicator\n",
    "        #{\"kind\": \"macd\", \"fast\": 8, \"slow\": 21},\n",
    "        #{\"kind\": \"sma\", \"close\": \"volume\", \"length\": 20, \"prefix\": \"VOLUME\"},\n",
    "    ]\n",
    ")\n",
    "# Run \"Custom Strategy\"\n",
    "daily_data.ta.strategy(CustomStrategy)\n",
    "weekly_data.ta.strategy(CustomStrategy)"
   ]
  },
  {
   "cell_type": "code",
   "execution_count": 7,
   "metadata": {},
   "outputs": [],
   "source": [
    "# daily data munging\n",
    "daily_data['psar'] = daily_data['PSARl_0.02_0.2'].combine_first(daily_data['PSARs_0.02_0.2'])\n",
    "daily_data = daily_data[['open', 'high', 'low', 'close', 'adjusted_close', 'SMA_9', 'SMA_20',\n",
    "       'BBL_20_2.0', 'BBU_20_2.0', 'BBP_20_2.0', 'BBL_20_3.0', 'BBU_20_3.0', 'BBP_20_3.0',\n",
    "       'ADX_14', 'DMP_14', 'DMN_14', 'psar']]\n",
    "daily_data.columns = ['open', 'high', 'low', 'close', 'adjusted_close', 'sma_9', 'sma_20',\n",
    "       'bbl_2', 'bbu_2', 'bbp_2', 'bbl_3', 'bbu_3', 'bbp_3', 'adx_14', 'dmp_14', 'dmn_14', 'psar']\n",
    "for c in daily_data.columns:\n",
    "    daily_data[c + '_t_minus_1'] = daily_data[c].shift(1)"
   ]
  },
  {
   "cell_type": "code",
   "execution_count": 8,
   "metadata": {},
   "outputs": [],
   "source": [
    "# weekly data munging\n",
    "weekly_data['psar'] = weekly_data['PSARl_0.02_0.2'].combine_first(weekly_data['PSARs_0.02_0.2'])\n",
    "weekly_data = weekly_data[['open', 'high', 'low', 'close', 'adjusted_close', 'SMA_9', 'SMA_20',\n",
    "       'BBL_20_2.0', 'BBU_20_2.0', 'BBP_20_2.0', 'BBL_20_3.0', 'BBU_20_3.0', 'BBP_20_3.0',\n",
    "       'ADX_14', 'DMP_14', 'DMN_14', 'psar']]\n",
    "weekly_data.columns = ['open', 'high', 'low', 'close', 'adjusted_close', 'sma_9', 'sma_20',\n",
    "       'bbl_2', 'bbu_2', 'bbp_2', 'bbl_3', 'bbu_3', 'bbp_3', 'adx_14', 'dmp_14', 'dmn_14', 'psar']\n",
    "for c in weekly_data.columns:\n",
    "    weekly_data[c + '_t_minus_1'] = weekly_data[c].shift(1)"
   ]
  },
  {
   "cell_type": "code",
   "execution_count": 9,
   "metadata": {},
   "outputs": [],
   "source": [
    "# checkpoint\n",
    "dd = daily_data\n",
    "wd = weekly_data"
   ]
  },
  {
   "cell_type": "markdown",
   "metadata": {},
   "source": [
    "## 3. Step: Create the rules for generating events"
   ]
  },
  {
   "cell_type": "code",
   "execution_count": 10,
   "metadata": {},
   "outputs": [],
   "source": [
    "dd.columns"
   ]
  },
  {
   "cell_type": "code",
   "execution_count": 11,
   "metadata": {},
   "outputs": [],
   "source": [
    "def dummy_rule(df):\n",
    "    if (df['close'] > 1):\n",
    "        return ' -> dummy_string'\n",
    "    else:\n",
    "        return ''\n",
    "\n",
    "#########################\n",
    "### BULLISH CROSSINGS ###\n",
    "#########################\n",
    "    \n",
    "def rule_adx_bull_crossing(df):\n",
    "    if (df['dmp_14'] > df['dmn_14']) and (df['adx_14_t_minus_1'] < df['dmn_14_t_minus_1']) and (df['adx_14'] > df['dmn_14']):\n",
    "        return ' -> adx_bull_crossing'\n",
    "    else:\n",
    "        return ''\n",
    "    \n",
    "def rule_price_bull_crossing_9ma(df):\n",
    "    if (df['close_t_minus_1'] < df['sma_9_t_minus_1'] and df['close'] > df['sma_9']):\n",
    "        return ' -> price_bull_crossing_9ma'\n",
    "    else:\n",
    "        return ''\n",
    "\n",
    "def rule_price_bull_crossing_20ma(df):\n",
    "    if (df['close_t_minus_1'] < df['sma_20_t_minus_1'] and df['close'] > df['sma_20']):\n",
    "        return ' -> price_bull_crossing_20ma'\n",
    "    else:\n",
    "        return ''\n",
    "\n",
    "def rule_price_bull_crossing_psar(df):\n",
    "    if (df['close_t_minus_1'] < df['psar_t_minus_1'] and df['close'] > df['psar']):\n",
    "        return ' -> price_bull_crossing_psar'\n",
    "    else:\n",
    "        return ''\n",
    "\n",
    "def rule_price_bull_crossing_l_bb2(df):\n",
    "    if (df['close_t_minus_1'] < df['bbl_2_t_minus_1'] and df['close'] > df['bbl_2']):\n",
    "        return ' -> price_bull_crossing_lower_bb2'\n",
    "    else:\n",
    "        return ''\n",
    "\n",
    "def rule_price_bull_crossing_l_bb3(df):\n",
    "    if (df['close_t_minus_1'] < df['bbl_3_t_minus_1'] and df['close'] > df['bbl_3']):\n",
    "        return ' -> price_bull_crossing_lower_bb3'\n",
    "    else:\n",
    "        return ''\n",
    "    \n",
    "def rule_price_bull_crossing_u_bb2(df):\n",
    "    if (df['close_t_minus_1'] < df['bbu_2_t_minus_1'] and df['close'] > df['bbu_2']):\n",
    "        return ' -> price_bull_crossing_upper_bb2'\n",
    "    else:\n",
    "        return ''\n",
    "\n",
    "def rule_price_bull_crossing_u_bb3(df):\n",
    "    if (df['close_t_minus_1'] < df['bbu_3_t_minus_1'] and df['close'] > df['bbu_3']):\n",
    "        return ' -> price_bull_crossing_upper_bb3'\n",
    "    else:\n",
    "        return ''\n",
    "\n",
    "def rule_bullish_crossing_percb_over_0(df):\n",
    "    if (df['bbp_2_t_minus_1'] < 0 and df['bbp_2'] > 0):\n",
    "        return ' -> percb_bull_crossing_over_0'\n",
    "    else:\n",
    "        return ''\n",
    "\n",
    "def rule_bullish_crossing_percb_over_1(df):\n",
    "    if (df['bbp_2_t_minus_1'] < 1 and df['bbp_2'] > 1):\n",
    "        return ' -> percb_bull_crossing_over_1'\n",
    "    else:\n",
    "        return ''\n",
    "\n",
    "def rule_dmp_bullish_crossing_over_dmn(df):\n",
    "    if (df['dmp_14_t_minus_1'] < df['dmn_14_t_minus_1'] and df['dmp_14'] > df['dmn_14']):\n",
    "        return ' -> di+_bull_crossing_di-'\n",
    "    else:\n",
    "        return ''\n",
    "\n",
    "def rule_dmn_bullish_crossing_over_dmp(df):\n",
    "    if (df['dmn_14_t_minus_1'] < df['dmp_14_t_minus_1'] and df['dmn_14'] > df['dmp_14']):\n",
    "        return ' -> di-_bull_crossing_di+'\n",
    "    else:\n",
    "        return ''\n",
    "    \n",
    "#########################\n",
    "### BAERISH CROSSINGS ###\n",
    "#########################\n",
    "\n",
    "def rule_adx_bear_crossing(df):\n",
    "    if (df['dmn_14'] > df['dmp_14']) and (df['adx_14_t_minus_1'] < df['dmn_14_t_minus_1']) and (df['adx_14'] > df['dmn_14']):\n",
    "        return ' -> adx_bear_crossing'\n",
    "    else:\n",
    "        return ''\n",
    "\n",
    "def rule_price_bear_crossing_9ma(df):\n",
    "    if (df['close_t_minus_1'] > df['sma_9_t_minus_1'] and df['close'] < df['sma_9']):\n",
    "        return ' -> price_bear_crossing_9ma'\n",
    "    else:\n",
    "        return ''\n",
    "\n",
    "def rule_price_bear_crossing_20ma(df):\n",
    "    if (df['close_t_minus_1'] > df['sma_20_t_minus_1'] and df['close'] < df['sma_20']):\n",
    "        return ' -> price_bear_crossing_20ma'\n",
    "    else:\n",
    "        return ''\n",
    "\n",
    "def rule_price_bear_crossing_psar(df):\n",
    "    if (df['close_t_minus_1'] > df['psar_t_minus_1'] and df['close'] < df['psar']):\n",
    "        return ' -> price_bear_crossing_psar'\n",
    "    else:\n",
    "        return ''\n",
    "\n",
    "def rule_price_bear_crossing_l_bb2(df):\n",
    "    if (df['close_t_minus_1'] > df['bbl_2_t_minus_1'] and df['close'] < df['bbl_2']):\n",
    "        return ' -> price_bear_crossing_lower_bb2'\n",
    "    else:\n",
    "        return ''\n",
    "\n",
    "def rule_price_bear_crossing_l_bb3(df):\n",
    "    if (df['close_t_minus_1'] > df['bbl_3_t_minus_1'] and df['close'] < df['bbl_3']):\n",
    "        return ' -> price_bear_crossing_lower_bb3'\n",
    "    else:\n",
    "        return ''\n",
    "    \n",
    "def rule_price_bear_crossing_u_bb2(df):\n",
    "    if (df['close_t_minus_1'] > df['bbu_2_t_minus_1'] and df['close'] < df['bbu_2']):\n",
    "        return ' -> price_bear_crossing_upper_bb2'\n",
    "    else:\n",
    "        return ''\n",
    "\n",
    "def rule_price_bear_crossing_u_bb3(df):\n",
    "    if (df['close_t_minus_1'] > df['bbu_3_t_minus_1'] and df['close'] < df['bbu_3']):\n",
    "        return ' -> price_bear_crossing_upper_bb3'\n",
    "    else:\n",
    "        return ''\n",
    "\n",
    "def rule_bearish_crossing_percb_over_0(df):\n",
    "    if (df['bbp_2_t_minus_1'] > 0 and df['bbp_2'] < 0):\n",
    "        return ' -> percb_bear_crossing_over_0'\n",
    "    else:\n",
    "        return ''\n",
    "\n",
    "def rule_bearish_crossing_percb_over_1(df):\n",
    "    if (df['bbp_2_t_minus_1'] > 1 and df['bbp_2'] < 1):\n",
    "        return ' -> percb_bear_crossing_over_1'\n",
    "    else:\n",
    "        return ''\n",
    "\n",
    "def rule_dmp_bearish_crossing_over_dmn(df):\n",
    "    if (df['dmp_14_t_minus_1'] > df['dmn_14_t_minus_1'] and df['dmp_14'] < df['dmn_14']):\n",
    "        return ' -> di+_bear_crossing_di-'\n",
    "    else:\n",
    "        return ''\n",
    "\n",
    "def rule_dmn_bearish_crossing_over_dmp(df):\n",
    "    if (df['dmn_14_t_minus_1'] > df['dmp_14_t_minus_1'] and df['dmn_14'] < df['dmp_14']):\n",
    "        return ' -> di-_bear_crossing_di+'\n",
    "    else:\n",
    "        return ''"
   ]
  },
  {
   "cell_type": "code",
   "execution_count": 12,
   "metadata": {},
   "outputs": [],
   "source": [
    "daily_rules = [\n",
    "    #dummy_rule,\n",
    "    rule_adx_bull_crossing,\n",
    "    rule_price_bull_crossing_9ma,\n",
    "    rule_price_bull_crossing_20ma,\n",
    "    rule_price_bull_crossing_psar,\n",
    "    rule_price_bull_crossing_l_bb2,\n",
    "    rule_price_bull_crossing_l_bb3,\n",
    "    rule_price_bull_crossing_u_bb2,\n",
    "    rule_price_bull_crossing_u_bb3,\n",
    "    rule_bullish_crossing_percb_over_0,\n",
    "    rule_bullish_crossing_percb_over_1,\n",
    "    rule_dmp_bullish_crossing_over_dmn,\n",
    "    rule_dmn_bullish_crossing_over_dmp,\n",
    "    rule_adx_bear_crossing,\n",
    "    rule_price_bear_crossing_9ma,\n",
    "    rule_price_bear_crossing_20ma,\n",
    "    rule_price_bear_crossing_psar,\n",
    "    rule_price_bear_crossing_l_bb2,\n",
    "    rule_price_bear_crossing_l_bb3,\n",
    "    rule_price_bear_crossing_u_bb2,\n",
    "    rule_price_bear_crossing_u_bb3,\n",
    "    rule_bearish_crossing_percb_over_0,\n",
    "    rule_bearish_crossing_percb_over_1,\n",
    "    rule_dmp_bearish_crossing_over_dmn,\n",
    "    rule_dmn_bearish_crossing_over_dmp,\n",
    "    \n",
    "    ]\n",
    "\n",
    "weekly_rules = [\n",
    "    #dummy_rule,\n",
    "    rule_adx_bull_crossing,\n",
    "    rule_price_bull_crossing_9ma,\n",
    "    rule_price_bull_crossing_20ma,\n",
    "    rule_price_bull_crossing_psar,\n",
    "    rule_price_bull_crossing_l_bb2,\n",
    "    rule_price_bull_crossing_l_bb3,\n",
    "    rule_price_bull_crossing_u_bb2,\n",
    "    rule_price_bull_crossing_u_bb3,\n",
    "    rule_bullish_crossing_percb_over_0,\n",
    "    rule_bullish_crossing_percb_over_1,\n",
    "    rule_dmp_bullish_crossing_over_dmn,\n",
    "    rule_dmn_bullish_crossing_over_dmp,\n",
    "    rule_adx_bear_crossing,\n",
    "    rule_price_bear_crossing_9ma,\n",
    "    rule_price_bear_crossing_20ma,\n",
    "    rule_price_bear_crossing_psar,\n",
    "    rule_price_bear_crossing_l_bb2,\n",
    "    rule_price_bear_crossing_l_bb3,\n",
    "    rule_price_bear_crossing_u_bb2,\n",
    "    rule_price_bear_crossing_u_bb3,\n",
    "    rule_bearish_crossing_percb_over_0,\n",
    "    rule_bearish_crossing_percb_over_1,\n",
    "    rule_dmp_bearish_crossing_over_dmn,\n",
    "    rule_dmn_bearish_crossing_over_dmp,\n",
    "]"
   ]
  },
  {
   "cell_type": "code",
   "execution_count": 13,
   "metadata": {},
   "outputs": [],
   "source": [
    "def rule_execution(df, rules, event_class):\n",
    "    liste = []\n",
    "    for index, row in df.iterrows():\n",
    "        resp = ''\n",
    "        for rule in rules:\n",
    "            resp += rule(row)\n",
    "        liste.append((index, resp))\n",
    "    res = pd.DataFrame(liste)\n",
    "    res.columns = ['date', event_class]\n",
    "    res = res.set_index('date')\n",
    "    return res"
   ]
  },
  {
   "cell_type": "code",
   "execution_count": 14,
   "metadata": {},
   "outputs": [],
   "source": [
    "daily_rule_results = rule_execution(dd, daily_rules, 'daily_event')\n",
    "weekly_rule_results = rule_execution(wd, weekly_rules, 'weekly_event')"
   ]
  },
  {
   "cell_type": "markdown",
   "metadata": {},
   "source": [
    "# My tests"
   ]
  },
  {
   "cell_type": "code",
   "execution_count": 15,
   "metadata": {},
   "outputs": [],
   "source": [
    "daily_rule_results.loc[(daily_rule_results.index.month == 6)]"
   ]
  },
  {
   "cell_type": "code",
   "execution_count": 16,
   "metadata": {},
   "outputs": [],
   "source": [
    "weekly_rule_results.loc[(weekly_rule_results.index.year==2021) & (weekly_rule_results.index.month==6)]"
   ]
  },
  {
   "cell_type": "markdown",
   "metadata": {},
   "source": [
    "## 4. Step: Join on time"
   ]
  },
  {
   "cell_type": "code",
   "execution_count": 22,
   "metadata": {},
   "outputs": [],
   "source": [
    "df_merged = pd.concat([dd,daily_rule_results, weekly_rule_results], axis=1)\n",
    "#reduced = df_merged.loc[(df_merged.index.month==6) & (df_merged.index.year==2021) & (df_merged.daily_event != '' ),['daily_event', 'weekly_event']]"
   ]
  },
  {
   "cell_type": "markdown",
   "metadata": {},
   "source": [
    "## 5. Step: Create Event String for Preceeding event"
   ]
  },
  {
   "cell_type": "code",
   "execution_count": 23,
   "metadata": {},
   "outputs": [
    {
     "data": {
      "text/html": [
       "<div>\n",
       "<style scoped>\n",
       "    .dataframe tbody tr th:only-of-type {\n",
       "        vertical-align: middle;\n",
       "    }\n",
       "\n",
       "    .dataframe tbody tr th {\n",
       "        vertical-align: top;\n",
       "    }\n",
       "\n",
       "    .dataframe thead th {\n",
       "        text-align: right;\n",
       "    }\n",
       "</style>\n",
       "<table border=\"1\" class=\"dataframe\">\n",
       "  <thead>\n",
       "    <tr style=\"text-align: right;\">\n",
       "      <th></th>\n",
       "      <th>daily_event</th>\n",
       "      <th>weekly_event_preceding_after_this_daily_event</th>\n",
       "    </tr>\n",
       "    <tr>\n",
       "      <th>date</th>\n",
       "      <th></th>\n",
       "      <th></th>\n",
       "    </tr>\n",
       "  </thead>\n",
       "  <tbody>\n",
       "    <tr>\n",
       "      <th>2021-03-25</th>\n",
       "      <td>-&gt; price_bear_crossing_9ma</td>\n",
       "      <td>-&gt; price_bull_crossing_9ma</td>\n",
       "    </tr>\n",
       "    <tr>\n",
       "      <th>2021-04-22</th>\n",
       "      <td>-&gt; price_bear_crossing_9ma -&gt; price_bear_cros...</td>\n",
       "      <td>-&gt; price_bear_crossing_upper_bb2 -&gt; percb_bea...</td>\n",
       "    </tr>\n",
       "    <tr>\n",
       "      <th>2021-05-13</th>\n",
       "      <td>-&gt; price_bull_crossing_lower_bb2 -&gt; percb_bul...</td>\n",
       "      <td>-&gt; price_bear_crossing_9ma</td>\n",
       "    </tr>\n",
       "    <tr>\n",
       "      <th>2021-06-10</th>\n",
       "      <td>-&gt; price_bull_crossing_upper_bb2 -&gt; percb_bul...</td>\n",
       "      <td>-&gt; price_bull_crossing_9ma</td>\n",
       "    </tr>\n",
       "    <tr>\n",
       "      <th>2021-06-22</th>\n",
       "      <td>-&gt; adx_bull_crossing</td>\n",
       "      <td>-&gt; price_bull_crossing_upper_bb2 -&gt; percb_bul...</td>\n",
       "    </tr>\n",
       "    <tr>\n",
       "      <th>2021-07-22</th>\n",
       "      <td>-&gt; price_bull_crossing_psar</td>\n",
       "      <td>-&gt; price_bull_crossing_upper_bb2 -&gt; percb_bul...</td>\n",
       "    </tr>\n",
       "    <tr>\n",
       "      <th>2021-07-23</th>\n",
       "      <td>-&gt; price_bull_crossing_upper_bb2 -&gt; percb_bul...</td>\n",
       "      <td>-&gt; price_bear_crossing_upper_bb2 -&gt; percb_bea...</td>\n",
       "    </tr>\n",
       "  </tbody>\n",
       "</table>\n",
       "</div>"
      ],
      "text/plain": [
       "                                                  daily_event  \\\n",
       "date                                                            \n",
       "2021-03-25                         -> price_bear_crossing_9ma   \n",
       "2021-04-22   -> price_bear_crossing_9ma -> price_bear_cros...   \n",
       "2021-05-13   -> price_bull_crossing_lower_bb2 -> percb_bul...   \n",
       "2021-06-10   -> price_bull_crossing_upper_bb2 -> percb_bul...   \n",
       "2021-06-22                               -> adx_bull_crossing   \n",
       "2021-07-22                        -> price_bull_crossing_psar   \n",
       "2021-07-23   -> price_bull_crossing_upper_bb2 -> percb_bul...   \n",
       "\n",
       "                weekly_event_preceding_after_this_daily_event  \n",
       "date                                                           \n",
       "2021-03-25                         -> price_bull_crossing_9ma  \n",
       "2021-04-22   -> price_bear_crossing_upper_bb2 -> percb_bea...  \n",
       "2021-05-13                         -> price_bear_crossing_9ma  \n",
       "2021-06-10                         -> price_bull_crossing_9ma  \n",
       "2021-06-22   -> price_bull_crossing_upper_bb2 -> percb_bul...  \n",
       "2021-07-22   -> price_bull_crossing_upper_bb2 -> percb_bul...  \n",
       "2021-07-23   -> price_bear_crossing_upper_bb2 -> percb_bea...  "
      ]
     },
     "execution_count": 23,
     "metadata": {},
     "output_type": "execute_result"
    }
   ],
   "source": [
    "reduced = df_merged.loc[(df_merged.daily_event != '' ),['daily_event', 'weekly_event']]\n",
    "reduced['weekly_event_preceding_after_this_daily_event'] = reduced['weekly_event'].shift(-1)\n",
    "reduced_not_null = reduced[reduced.weekly_event_preceding_after_this_daily_event.notnull()]\n",
    "reduced_not_null = reduced_not_null.loc[(reduced_not_null.weekly_event_preceding_after_this_daily_event != ''),['daily_event', 'weekly_event_preceding_after_this_daily_event']]\n",
    "final_source = reduced_not_null[reduced_not_null.daily_event.notnull()]\n",
    "final_source"
   ]
  },
  {
   "cell_type": "markdown",
   "metadata": {},
   "source": [
    "## 6. Step: Calc and sort occurrences"
   ]
  },
  {
   "cell_type": "code",
   "execution_count": 19,
   "metadata": {},
   "outputs": [],
   "source": [
    "# select distinct daily_event, weekly_event from XY\n",
    "# select daily_event, count(*) as all_events_after_a from XY group by daily_event\n",
    "# select daily_event, weekly_event from XY group by daily_event, weekly_event"
   ]
  }
 ],
 "metadata": {
  "kernelspec": {
   "display_name": "Python 3",
   "language": "python",
   "name": "python3"
  },
  "language_info": {
   "codemirror_mode": {
    "name": "ipython",
    "version": 3
   },
   "file_extension": ".py",
   "mimetype": "text/x-python",
   "name": "python",
   "nbconvert_exporter": "python",
   "pygments_lexer": "ipython3",
   "version": "3.7.3"
  }
 },
 "nbformat": 4,
 "nbformat_minor": 4
}
